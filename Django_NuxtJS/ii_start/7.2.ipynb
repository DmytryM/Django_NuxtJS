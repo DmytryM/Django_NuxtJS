{
 "cells": [
  {
   "cell_type": "code",
   "execution_count": 2,
   "outputs": [],
   "source": [
    "# import numpy as np\n",
    "#\n",
    "# def cumulative_mean(X):\n",
    "#     res = np.cumsum(X)\n",
    "#     k = np.arange(1, len(res) + 1)\n",
    "#     result = res/k\n",
    "#     return result"
   ],
   "metadata": {
    "collapsed": false,
    "pycharm": {
     "name": "#%%\n"
    }
   }
  },
  {
   "cell_type": "code",
   "execution_count": null,
   "outputs": [],
   "source": [
    "import numpy as np\n",
    "\n",
    "def cumulative_mean_2d(A):\n",
    "    \"\"\"\n",
    "    A: np.array[num_row, num_column]        --- матрица-аргумент\n",
    "    return S: np.array[num_row, num_column] --- выходная матрица кумулятивных сумм\n",
    "\n",
    "    Функция принимает на вход матрицу A размерностью n x m и возвращает\n",
    "    матрицу с той же размерностью n x m, i-ая строчка которой есть последовательность\n",
    "    кумулятивных сумм элементов i-ой строки матрицы A\n",
    "\n",
    "    В реализации этой функции необходимо использовать функционал пакета numpy\n",
    "\n",
    "    \"\"\"\n",
    "    #YOUR CODE\n",
    "\n",
    "    result = #YOUR CODE\n",
    "    return #YOUR CODE"
   ],
   "metadata": {
    "collapsed": false,
    "pycharm": {
     "name": "#%%\n"
    }
   }
  }
 ],
 "metadata": {
  "kernelspec": {
   "display_name": "Python 3",
   "language": "python",
   "name": "python3"
  },
  "language_info": {
   "codemirror_mode": {
    "name": "ipython",
    "version": 2
   },
   "file_extension": ".py",
   "mimetype": "text/x-python",
   "name": "python",
   "nbconvert_exporter": "python",
   "pygments_lexer": "ipython2",
   "version": "2.7.6"
  }
 },
 "nbformat": 4,
 "nbformat_minor": 0
}