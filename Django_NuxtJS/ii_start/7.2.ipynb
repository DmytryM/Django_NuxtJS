{
 "cells": [
  {
   "cell_type": "code",
   "execution_count": 2,
   "outputs": [],
   "source": [
    "# import numpy as np\n",
    "#\n",
    "# def cumulative_mean(X):\n",
    "#     res = np.cumsum(X)\n",
    "#     k = np.arange(1, len(res) + 1)\n",
    "#     result = res/k\n",
    "#     return result"
   ],
   "metadata": {
    "collapsed": false,
    "pycharm": {
     "name": "#%%\n"
    }
   }
  },
  {
   "cell_type": "code",
   "execution_count": null,
   "outputs": [],
   "source": [
    "import numpy as np\n",
    "\n",
    "\n",
    "def cumulative_mean_2d(A):\n",
    "\n",
    "    result =\n",
    "    return  result"
   ],
   "metadata": {
    "collapsed": false,
    "pycharm": {
     "name": "#%%\n"
    }
   }
  },
  {
   "cell_type": "code",
   "execution_count": 7,
   "outputs": [
    {
     "name": "stdout",
     "output_type": "stream",
     "text": [
      "[  125     1 85184     1     0     1   -27     1   125     1]\n"
     ]
    }
   ],
   "source": [
    "# import numpy as np\n",
    "#\n",
    "# def transform(X):\n",
    "#     X[::2], X[1::2] = X[::2] ** 3, 1\n",
    "#     return X\n",
    "#\n",
    "# X = np.array([5, -2, 44, 8, 0, -2, -3, 1, 5, 3])\n",
    "# print(transform(X))"
   ],
   "metadata": {
    "collapsed": false,
    "pycharm": {
     "name": "#%%\n"
    }
   }
  },
  {
   "cell_type": "code",
   "execution_count": 14,
   "outputs": [
    {
     "name": "stdout",
     "output_type": "stream",
     "text": [
      "6\n"
     ]
    }
   ],
   "source": [
    "# import numpy as np\n",
    "#\n",
    "#\n",
    "# def diag_2k(a):\n",
    "#     res = np.diag(a)\n",
    "#     result = sum(res[res % 2 == 0])\n",
    "#     return result\n",
    "#\n",
    "# a = np.array([1, 3, 6,\n",
    "#               2, 8,-2,\n",
    "#               -2, 0, -2],\n",
    "#              dtype=int).reshape(3,3)\n",
    "# print(diag_2k(a))"
   ],
   "metadata": {
    "collapsed": false,
    "pycharm": {
     "name": "#%%\n"
    }
   }
  },
  {
   "cell_type": "code",
   "execution_count": null,
   "outputs": [],
   "source": [],
   "metadata": {
    "collapsed": false,
    "pycharm": {
     "name": "#%%\n"
    }
   }
  }
 ],
 "metadata": {
  "kernelspec": {
   "display_name": "Python 3",
   "language": "python",
   "name": "python3"
  },
  "language_info": {
   "codemirror_mode": {
    "name": "ipython",
    "version": 2
   },
   "file_extension": ".py",
   "mimetype": "text/x-python",
   "name": "python",
   "nbconvert_exporter": "python",
   "pygments_lexer": "ipython2",
   "version": "2.7.6"
  }
 },
 "nbformat": 4,
 "nbformat_minor": 0
}