{
 "cells": [
  {
   "cell_type": "code",
   "execution_count": null,
   "metadata": {
    "collapsed": true,
    "pycharm": {
     "name": "#%%\n"
    }
   },
   "outputs": [],
   "source": [
    "import numpy as np\n",
    "\n",
    "def no_numpy_scalar(v1, v2):\n",
    "    #param v1, v2: lists of 3 ints\n",
    "    #YOUR CODE: please do not use numpy\n",
    "\n",
    "    result = #YOUR CODE\n",
    "    return result\n",
    "\n",
    "def numpy_scalar (v1, v2):\n",
    "    #param v1, v2: np.arrays[3]\n",
    "    #YOUR CODE\n",
    "\n",
    "    result = #YOUR CODE\n",
    "    return result"
   ]
  }
 ],
 "metadata": {
  "kernelspec": {
   "display_name": "Python 3",
   "language": "python",
   "name": "python3"
  },
  "language_info": {
   "codemirror_mode": {
    "name": "ipython",
    "version": 2
   },
   "file_extension": ".py",
   "mimetype": "text/x-python",
   "name": "python",
   "nbconvert_exporter": "python",
   "pygments_lexer": "ipython2",
   "version": "2.7.6"
  }
 },
 "nbformat": 4,
 "nbformat_minor": 0
}