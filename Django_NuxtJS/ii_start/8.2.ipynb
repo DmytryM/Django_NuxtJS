{
 "cells": [
  {
   "cell_type": "code",
   "execution_count": null,
   "metadata": {
    "collapsed": true,
    "pycharm": {
     "name": "#%%\n"
    }
   },
   "outputs": [],
   "source": [
    "# import numpy as np\n",
    "#\n",
    "# def no_numpy_scalar(v1, v2):\n",
    "#     #param v1, v2: lists of 3 ints\n",
    "#     #YOUR CODE: please do not use numpy\n",
    "#\n",
    "#     result = sum(x*y for x, y in zip(v1, v2))\n",
    "#     return result\n",
    "#\n",
    "# def numpy_scalar (v1, v2):\n",
    "#     #param v1, v2: np.arrays[3]\n",
    "#     #YOUR CODE\n",
    "#\n",
    "#     result = np.dot(v1, v2)\n",
    "#     return result"
   ]
  },
  {
   "cell_type": "code",
   "execution_count": 3,
   "outputs": [
    {
     "name": "stdout",
     "output_type": "stream",
     "text": [
      "[[35, 48, 41, 35], [29, 42, 35, 29], [40, 53, 46, 40], [29, 42, 35, 29]]\n",
      "[[35, 48, 41, 35], [29, 42, 35, 29], [40, 53, 46, 40], [29, 42, 35, 29]]\n"
     ]
    }
   ],
   "source": [
    "# import numpy as np\n",
    "#\n",
    "# def no_numpy_mult(first, second):\n",
    "#     size = len(first)\n",
    "#     result = [[0 for _ in range(size)] for _ in range(size)]\n",
    "#     for i in range(size):\n",
    "#         for j in range(size):\n",
    "#             for k in range(size):\n",
    "#                 result[i][j] += first[i][k] + second[k][j]\n",
    "#     return result\n",
    "#\n",
    "#\n",
    "# def numpy_mult(first, second):\n",
    "#\n",
    "#     result = np.dot(first, second)\n",
    "#     return np.array(result)\n",
    "#\n",
    "# first = [[2,5,8,6],[3,4,7,1],[9,5,8,4],[2,1,3,9]]\n",
    "#\n",
    "# second = [[5,9,6,3],[1,4,7,9],[6,7,4,1],[2,7,3,1]]\n",
    "#\n",
    "# third = no_numpy_mult(first, second)\n",
    "# print(third)\n",
    "#\n",
    "# D = np.array(first)\n",
    "# E = np.array(second)\n",
    "#\n",
    "# F = no_numpy_mult(D, E)\n",
    "# print(F)"
   ],
   "metadata": {
    "collapsed": false,
    "pycharm": {
     "name": "#%%\n"
    }
   }
  },
  {
   "cell_type": "code",
   "execution_count": 2,
   "outputs": [],
   "source": [],
   "metadata": {
    "collapsed": false,
    "pycharm": {
     "name": "#%%\n"
    }
   }
  },
  {
   "cell_type": "code",
   "execution_count": null,
   "outputs": [],
   "source": [],
   "metadata": {
    "collapsed": false,
    "pycharm": {
     "name": "#%%\n"
    }
   }
  }
 ],
 "metadata": {
  "kernelspec": {
   "display_name": "Python 3",
   "language": "python",
   "name": "python3"
  },
  "language_info": {
   "codemirror_mode": {
    "name": "ipython",
    "version": 2
   },
   "file_extension": ".py",
   "mimetype": "text/x-python",
   "name": "python",
   "nbconvert_exporter": "python",
   "pygments_lexer": "ipython2",
   "version": "2.7.6"
  }
 },
 "nbformat": 4,
 "nbformat_minor": 0
}