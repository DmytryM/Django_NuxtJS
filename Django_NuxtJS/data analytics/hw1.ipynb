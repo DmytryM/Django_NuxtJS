{
 "cells": [
  {
   "cell_type": "code",
   "execution_count": 2,
   "metadata": {
    "collapsed": true,
    "pycharm": {
     "name": "#%%\n"
    }
   },
   "outputs": [],
   "source": [
    "import pandas as pd\n",
    "import numpy as np\n",
    "\n",
    "students_performance = pd.read_csv('titanic.csv')"
   ]
  },
  {
   "cell_type": "code",
   "execution_count": 3,
   "outputs": [
    {
     "data": {
      "text/plain": "(891, 12)"
     },
     "execution_count": 3,
     "metadata": {},
     "output_type": "execute_result"
    }
   ],
   "source": [
    "students_performance.shape"
   ],
   "metadata": {
    "collapsed": false,
    "pycharm": {
     "name": "#%%\n"
    }
   }
  },
  {
   "cell_type": "code",
   "execution_count": 4,
   "outputs": [
    {
     "data": {
      "text/plain": "PassengerId      int64\nSurvived         int64\nPclass           int64\nName            object\nSex             object\nAge            float64\nSibSp            int64\nParch            int64\nTicket          object\nFare           float64\nCabin           object\nEmbarked        object\ndtype: object"
     },
     "execution_count": 4,
     "metadata": {},
     "output_type": "execute_result"
    }
   ],
   "source": [
    "students_performance.dtypes"
   ],
   "metadata": {
    "collapsed": false,
    "pycharm": {
     "name": "#%%\n"
    }
   }
  },
  {
   "cell_type": "code",
   "execution_count": 5,
   "outputs": [
    {
     "data": {
      "text/plain": "0.355"
     },
     "execution_count": 5,
     "metadata": {},
     "output_type": "execute_result"
    }
   ],
   "source": [
    "hw2 = pd.read_csv('StudentsPerformance.csv')\n",
    "hw2['lunch'].str.contains('free/reduced').mean()"
   ],
   "metadata": {
    "collapsed": false,
    "pycharm": {
     "name": "#%%\n"
    }
   }
  },
  {
   "cell_type": "code",
   "execution_count": 6,
   "outputs": [
    {
     "data": {
      "text/plain": "             math score                                                       \\\n                  count       mean        std   min   25%   50%   75%    max   \nlunch                                                                          \nfree/reduced      355.0  58.921127  15.159956   0.0  49.0  60.0  69.0  100.0   \nstandard          645.0  70.034109  13.653501  19.0  61.0  69.0  80.0  100.0   \n\n             reading score             ...              writing score  \\\n                     count       mean  ...   75%    max         count   \nlunch                                  ...                              \nfree/reduced         355.0  64.653521  ...  75.0  100.0         355.0   \nstandard             645.0  71.654264  ...  82.0  100.0         645.0   \n\n                                                                   \n                   mean        std   min   25%   50%   75%    max  \nlunch                                                              \nfree/reduced  63.022535  15.433823  10.0  53.0  64.0  74.0  100.0  \nstandard      70.823256  14.339487  22.0  62.0  72.0  81.0  100.0  \n\n[2 rows x 24 columns]",
      "text/html": "<div>\n<style scoped>\n    .dataframe tbody tr th:only-of-type {\n        vertical-align: middle;\n    }\n\n    .dataframe tbody tr th {\n        vertical-align: top;\n    }\n\n    .dataframe thead tr th {\n        text-align: left;\n    }\n\n    .dataframe thead tr:last-of-type th {\n        text-align: right;\n    }\n</style>\n<table border=\"1\" class=\"dataframe\">\n  <thead>\n    <tr>\n      <th></th>\n      <th colspan=\"8\" halign=\"left\">math score</th>\n      <th colspan=\"5\" halign=\"left\">reading score</th>\n      <th colspan=\"8\" halign=\"left\">writing score</th>\n    </tr>\n    <tr>\n      <th></th>\n      <th>count</th>\n      <th>mean</th>\n      <th>std</th>\n      <th>min</th>\n      <th>25%</th>\n      <th>50%</th>\n      <th>75%</th>\n      <th>max</th>\n      <th>count</th>\n      <th>mean</th>\n      <th>...</th>\n      <th>75%</th>\n      <th>max</th>\n      <th>count</th>\n      <th>mean</th>\n      <th>std</th>\n      <th>min</th>\n      <th>25%</th>\n      <th>50%</th>\n      <th>75%</th>\n      <th>max</th>\n    </tr>\n    <tr>\n      <th>lunch</th>\n      <th></th>\n      <th></th>\n      <th></th>\n      <th></th>\n      <th></th>\n      <th></th>\n      <th></th>\n      <th></th>\n      <th></th>\n      <th></th>\n      <th></th>\n      <th></th>\n      <th></th>\n      <th></th>\n      <th></th>\n      <th></th>\n      <th></th>\n      <th></th>\n      <th></th>\n      <th></th>\n      <th></th>\n    </tr>\n  </thead>\n  <tbody>\n    <tr>\n      <th>free/reduced</th>\n      <td>355.0</td>\n      <td>58.921127</td>\n      <td>15.159956</td>\n      <td>0.0</td>\n      <td>49.0</td>\n      <td>60.0</td>\n      <td>69.0</td>\n      <td>100.0</td>\n      <td>355.0</td>\n      <td>64.653521</td>\n      <td>...</td>\n      <td>75.0</td>\n      <td>100.0</td>\n      <td>355.0</td>\n      <td>63.022535</td>\n      <td>15.433823</td>\n      <td>10.0</td>\n      <td>53.0</td>\n      <td>64.0</td>\n      <td>74.0</td>\n      <td>100.0</td>\n    </tr>\n    <tr>\n      <th>standard</th>\n      <td>645.0</td>\n      <td>70.034109</td>\n      <td>13.653501</td>\n      <td>19.0</td>\n      <td>61.0</td>\n      <td>69.0</td>\n      <td>80.0</td>\n      <td>100.0</td>\n      <td>645.0</td>\n      <td>71.654264</td>\n      <td>...</td>\n      <td>82.0</td>\n      <td>100.0</td>\n      <td>645.0</td>\n      <td>70.823256</td>\n      <td>14.339487</td>\n      <td>22.0</td>\n      <td>62.0</td>\n      <td>72.0</td>\n      <td>81.0</td>\n      <td>100.0</td>\n    </tr>\n  </tbody>\n</table>\n<p>2 rows × 24 columns</p>\n</div>"
     },
     "execution_count": 6,
     "metadata": {},
     "output_type": "execute_result"
    }
   ],
   "source": [
    "hw2.groupby(['lunch']).describe()"
   ],
   "metadata": {
    "collapsed": false,
    "pycharm": {
     "name": "#%%\n"
    }
   }
  },
  {
   "cell_type": "code",
   "execution_count": 8,
   "outputs": [],
   "source": [
    "df = pd.read_csv('column_hell.csv')\n",
    "selected_columns = df.filter(like='-')"
   ],
   "metadata": {
    "collapsed": false,
    "pycharm": {
     "name": "#%%\n"
    }
   }
  },
  {
   "cell_type": "code",
   "execution_count": 9,
   "outputs": [
    {
     "data": {
      "text/plain": "   Unnamed: 0 attack_type  id  legs  localized_name  \\\n0           0       Melee   1     2       Anti-Mage   \n1           1       Melee   2     2             Axe   \n2           2      Ranged   3     4            Bane   \n3           3       Melee   4     2     Bloodseeker   \n4           4      Ranged   5     2  Crystal Maiden   \n\n                           name primary_attr  \\\n0        npc_dota_hero_antimage          agi   \n1             npc_dota_hero_axe          str   \n2            npc_dota_hero_bane          int   \n3     npc_dota_hero_bloodseeker          agi   \n4  npc_dota_hero_crystal_maiden          int   \n\n                                               roles  \n0                       ['Carry', 'Escape', 'Nuker']  \n1    ['Initiator', 'Durable', 'Disabler', 'Jungler']  \n2        ['Support', 'Disabler', 'Nuker', 'Durable']  \n3  ['Carry', 'Disabler', 'Jungler', 'Nuker', 'Ini...  \n4        ['Support', 'Disabler', 'Nuker', 'Jungler']  ",
      "text/html": "<div>\n<style scoped>\n    .dataframe tbody tr th:only-of-type {\n        vertical-align: middle;\n    }\n\n    .dataframe tbody tr th {\n        vertical-align: top;\n    }\n\n    .dataframe thead th {\n        text-align: right;\n    }\n</style>\n<table border=\"1\" class=\"dataframe\">\n  <thead>\n    <tr style=\"text-align: right;\">\n      <th></th>\n      <th>Unnamed: 0</th>\n      <th>attack_type</th>\n      <th>id</th>\n      <th>legs</th>\n      <th>localized_name</th>\n      <th>name</th>\n      <th>primary_attr</th>\n      <th>roles</th>\n    </tr>\n  </thead>\n  <tbody>\n    <tr>\n      <th>0</th>\n      <td>0</td>\n      <td>Melee</td>\n      <td>1</td>\n      <td>2</td>\n      <td>Anti-Mage</td>\n      <td>npc_dota_hero_antimage</td>\n      <td>agi</td>\n      <td>['Carry', 'Escape', 'Nuker']</td>\n    </tr>\n    <tr>\n      <th>1</th>\n      <td>1</td>\n      <td>Melee</td>\n      <td>2</td>\n      <td>2</td>\n      <td>Axe</td>\n      <td>npc_dota_hero_axe</td>\n      <td>str</td>\n      <td>['Initiator', 'Durable', 'Disabler', 'Jungler']</td>\n    </tr>\n    <tr>\n      <th>2</th>\n      <td>2</td>\n      <td>Ranged</td>\n      <td>3</td>\n      <td>4</td>\n      <td>Bane</td>\n      <td>npc_dota_hero_bane</td>\n      <td>int</td>\n      <td>['Support', 'Disabler', 'Nuker', 'Durable']</td>\n    </tr>\n    <tr>\n      <th>3</th>\n      <td>3</td>\n      <td>Melee</td>\n      <td>4</td>\n      <td>2</td>\n      <td>Bloodseeker</td>\n      <td>npc_dota_hero_bloodseeker</td>\n      <td>agi</td>\n      <td>['Carry', 'Disabler', 'Jungler', 'Nuker', 'Ini...</td>\n    </tr>\n    <tr>\n      <th>4</th>\n      <td>4</td>\n      <td>Ranged</td>\n      <td>5</td>\n      <td>2</td>\n      <td>Crystal Maiden</td>\n      <td>npc_dota_hero_crystal_maiden</td>\n      <td>int</td>\n      <td>['Support', 'Disabler', 'Nuker', 'Jungler']</td>\n    </tr>\n  </tbody>\n</table>\n</div>"
     },
     "execution_count": 9,
     "metadata": {},
     "output_type": "execute_result"
    }
   ],
   "source": [
    "dota = pd.read_csv('dota_hero_stats.csv')\n",
    "dota.head()"
   ],
   "metadata": {
    "collapsed": false,
    "pycharm": {
     "name": "#%%\n"
    }
   }
  },
  {
   "cell_type": "code",
   "execution_count": 11,
   "outputs": [
    {
     "data": {
      "text/plain": "2    95\n0    11\n4     7\n6     3\n8     1\nName: legs, dtype: int64"
     },
     "execution_count": 11,
     "metadata": {},
     "output_type": "execute_result"
    }
   ],
   "source": [
    "dota['legs'].value_counts()"
   ],
   "metadata": {
    "collapsed": false,
    "pycharm": {
     "name": "#%%\n"
    }
   }
  },
  {
   "cell_type": "code",
   "execution_count": 15,
   "outputs": [],
   "source": [
    "# anal = pd.read_csv('accountancy.csv')\n",
    "# anal.head()"
   ],
   "metadata": {
    "collapsed": false,
    "pycharm": {
     "name": "#%%\n"
    }
   }
  },
  {
   "cell_type": "code",
   "execution_count": 14,
   "outputs": [],
   "source": [
    "# anal.groupby(['Executor', 'Type'])['Salary'].mean()"
   ],
   "metadata": {
    "collapsed": false,
    "pycharm": {
     "name": "#%%\n"
    }
   }
  },
  {
   "cell_type": "code",
   "execution_count": 21,
   "outputs": [],
   "source": [
    "# dota.groupby(['attack_type','primary_attr']).aggregate({'id':'count'})"
   ],
   "metadata": {
    "collapsed": false,
    "pycharm": {
     "name": "#%%\n"
    }
   }
  },
  {
   "cell_type": "code",
   "execution_count": 23,
   "outputs": [
    {
     "data": {
      "text/plain": "               species       genus  group   sucrose    alanin   citrate  \\\n0    Fucus_vesiculosus       Fucus  brown  3.001472  3.711498  5.004262   \n1  Saccharina_japonica  Saccharina  brown  6.731070  1.255251  5.621499   \n2       Fucus_serratus       Fucus  brown  3.276870  0.346431  1.216767   \n3      Fucus_distichus       Fucus  brown  6.786996  6.641303  6.423606   \n4    Cladophora_fracta  Cladophora  green  3.861470  1.648450  6.940588   \n\n    glucose  oleic_acid  \n0  2.548459    6.405165  \n1  6.013219    4.156700  \n2  3.623225    0.304573  \n3  2.272724    3.393203  \n4  2.316955    2.528886  ",
      "text/html": "<div>\n<style scoped>\n    .dataframe tbody tr th:only-of-type {\n        vertical-align: middle;\n    }\n\n    .dataframe tbody tr th {\n        vertical-align: top;\n    }\n\n    .dataframe thead th {\n        text-align: right;\n    }\n</style>\n<table border=\"1\" class=\"dataframe\">\n  <thead>\n    <tr style=\"text-align: right;\">\n      <th></th>\n      <th>species</th>\n      <th>genus</th>\n      <th>group</th>\n      <th>sucrose</th>\n      <th>alanin</th>\n      <th>citrate</th>\n      <th>glucose</th>\n      <th>oleic_acid</th>\n    </tr>\n  </thead>\n  <tbody>\n    <tr>\n      <th>0</th>\n      <td>Fucus_vesiculosus</td>\n      <td>Fucus</td>\n      <td>brown</td>\n      <td>3.001472</td>\n      <td>3.711498</td>\n      <td>5.004262</td>\n      <td>2.548459</td>\n      <td>6.405165</td>\n    </tr>\n    <tr>\n      <th>1</th>\n      <td>Saccharina_japonica</td>\n      <td>Saccharina</td>\n      <td>brown</td>\n      <td>6.731070</td>\n      <td>1.255251</td>\n      <td>5.621499</td>\n      <td>6.013219</td>\n      <td>4.156700</td>\n    </tr>\n    <tr>\n      <th>2</th>\n      <td>Fucus_serratus</td>\n      <td>Fucus</td>\n      <td>brown</td>\n      <td>3.276870</td>\n      <td>0.346431</td>\n      <td>1.216767</td>\n      <td>3.623225</td>\n      <td>0.304573</td>\n    </tr>\n    <tr>\n      <th>3</th>\n      <td>Fucus_distichus</td>\n      <td>Fucus</td>\n      <td>brown</td>\n      <td>6.786996</td>\n      <td>6.641303</td>\n      <td>6.423606</td>\n      <td>2.272724</td>\n      <td>3.393203</td>\n    </tr>\n    <tr>\n      <th>4</th>\n      <td>Cladophora_fracta</td>\n      <td>Cladophora</td>\n      <td>green</td>\n      <td>3.861470</td>\n      <td>1.648450</td>\n      <td>6.940588</td>\n      <td>2.316955</td>\n      <td>2.528886</td>\n    </tr>\n  </tbody>\n</table>\n</div>"
     },
     "execution_count": 23,
     "metadata": {},
     "output_type": "execute_result"
    }
   ],
   "source": [
    "seaweed = pd.read_csv('algae.csv')\n",
    "seaweed.head()"
   ],
   "metadata": {
    "collapsed": false,
    "pycharm": {
     "name": "#%%\n"
    }
   }
  },
  {
   "cell_type": "code",
   "execution_count": null,
   "outputs": [],
   "source": [],
   "metadata": {
    "collapsed": false,
    "pycharm": {
     "name": "#%%\n"
    }
   }
  }
 ],
 "metadata": {
  "kernelspec": {
   "display_name": "Python 3",
   "language": "python",
   "name": "python3"
  },
  "language_info": {
   "codemirror_mode": {
    "name": "ipython",
    "version": 2
   },
   "file_extension": ".py",
   "mimetype": "text/x-python",
   "name": "python",
   "nbconvert_exporter": "python",
   "pygments_lexer": "ipython2",
   "version": "2.7.6"
  }
 },
 "nbformat": 4,
 "nbformat_minor": 0
}