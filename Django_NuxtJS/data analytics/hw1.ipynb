{
 "cells": [
  {
   "cell_type": "code",
   "execution_count": 1,
   "metadata": {
    "collapsed": true,
    "pycharm": {
     "name": "#%%\n"
    }
   },
   "outputs": [],
   "source": [
    "import pandas as pd\n",
    "import numpy as np\n",
    "\n",
    "students_performance = pd.read_csv('titanic.csv')"
   ]
  },
  {
   "cell_type": "code",
   "execution_count": 2,
   "outputs": [
    {
     "data": {
      "text/plain": "(891, 12)"
     },
     "execution_count": 2,
     "metadata": {},
     "output_type": "execute_result"
    }
   ],
   "source": [
    "students_performance.shape"
   ],
   "metadata": {
    "collapsed": false,
    "pycharm": {
     "name": "#%%\n"
    }
   }
  },
  {
   "cell_type": "code",
   "execution_count": 3,
   "outputs": [
    {
     "data": {
      "text/plain": "PassengerId      int64\nSurvived         int64\nPclass           int64\nName            object\nSex             object\nAge            float64\nSibSp            int64\nParch            int64\nTicket          object\nFare           float64\nCabin           object\nEmbarked        object\ndtype: object"
     },
     "execution_count": 3,
     "metadata": {},
     "output_type": "execute_result"
    }
   ],
   "source": [
    "students_performance.dtypes"
   ],
   "metadata": {
    "collapsed": false,
    "pycharm": {
     "name": "#%%\n"
    }
   }
  },
  {
   "cell_type": "code",
   "execution_count": 5,
   "outputs": [
    {
     "data": {
      "text/plain": "0.355"
     },
     "execution_count": 5,
     "metadata": {},
     "output_type": "execute_result"
    }
   ],
   "source": [
    "hw2 = pd.read_csv('StudentsPerformance.csv')\n",
    "hw2['lunch'].str.contains('free/reduced').mean()"
   ],
   "metadata": {
    "collapsed": false,
    "pycharm": {
     "name": "#%%\n"
    }
   }
  },
  {
   "cell_type": "code",
   "execution_count": 16,
   "outputs": [
    {
     "data": {
      "text/plain": "             math score                                                       \\\n                  count       mean        std   min   25%   50%   75%    max   \nlunch                                                                          \nfree/reduced      355.0  58.921127  15.159956   0.0  49.0  60.0  69.0  100.0   \nstandard          645.0  70.034109  13.653501  19.0  61.0  69.0  80.0  100.0   \n\n             reading score             ...              writing score  \\\n                     count       mean  ...   75%    max         count   \nlunch                                  ...                              \nfree/reduced         355.0  64.653521  ...  75.0  100.0         355.0   \nstandard             645.0  71.654264  ...  82.0  100.0         645.0   \n\n                                                                   \n                   mean        std   min   25%   50%   75%    max  \nlunch                                                              \nfree/reduced  63.022535  15.433823  10.0  53.0  64.0  74.0  100.0  \nstandard      70.823256  14.339487  22.0  62.0  72.0  81.0  100.0  \n\n[2 rows x 24 columns]",
      "text/html": "<div>\n<style scoped>\n    .dataframe tbody tr th:only-of-type {\n        vertical-align: middle;\n    }\n\n    .dataframe tbody tr th {\n        vertical-align: top;\n    }\n\n    .dataframe thead tr th {\n        text-align: left;\n    }\n\n    .dataframe thead tr:last-of-type th {\n        text-align: right;\n    }\n</style>\n<table border=\"1\" class=\"dataframe\">\n  <thead>\n    <tr>\n      <th></th>\n      <th colspan=\"8\" halign=\"left\">math score</th>\n      <th colspan=\"5\" halign=\"left\">reading score</th>\n      <th colspan=\"8\" halign=\"left\">writing score</th>\n    </tr>\n    <tr>\n      <th></th>\n      <th>count</th>\n      <th>mean</th>\n      <th>std</th>\n      <th>min</th>\n      <th>25%</th>\n      <th>50%</th>\n      <th>75%</th>\n      <th>max</th>\n      <th>count</th>\n      <th>mean</th>\n      <th>...</th>\n      <th>75%</th>\n      <th>max</th>\n      <th>count</th>\n      <th>mean</th>\n      <th>std</th>\n      <th>min</th>\n      <th>25%</th>\n      <th>50%</th>\n      <th>75%</th>\n      <th>max</th>\n    </tr>\n    <tr>\n      <th>lunch</th>\n      <th></th>\n      <th></th>\n      <th></th>\n      <th></th>\n      <th></th>\n      <th></th>\n      <th></th>\n      <th></th>\n      <th></th>\n      <th></th>\n      <th></th>\n      <th></th>\n      <th></th>\n      <th></th>\n      <th></th>\n      <th></th>\n      <th></th>\n      <th></th>\n      <th></th>\n      <th></th>\n      <th></th>\n    </tr>\n  </thead>\n  <tbody>\n    <tr>\n      <th>free/reduced</th>\n      <td>355.0</td>\n      <td>58.921127</td>\n      <td>15.159956</td>\n      <td>0.0</td>\n      <td>49.0</td>\n      <td>60.0</td>\n      <td>69.0</td>\n      <td>100.0</td>\n      <td>355.0</td>\n      <td>64.653521</td>\n      <td>...</td>\n      <td>75.0</td>\n      <td>100.0</td>\n      <td>355.0</td>\n      <td>63.022535</td>\n      <td>15.433823</td>\n      <td>10.0</td>\n      <td>53.0</td>\n      <td>64.0</td>\n      <td>74.0</td>\n      <td>100.0</td>\n    </tr>\n    <tr>\n      <th>standard</th>\n      <td>645.0</td>\n      <td>70.034109</td>\n      <td>13.653501</td>\n      <td>19.0</td>\n      <td>61.0</td>\n      <td>69.0</td>\n      <td>80.0</td>\n      <td>100.0</td>\n      <td>645.0</td>\n      <td>71.654264</td>\n      <td>...</td>\n      <td>82.0</td>\n      <td>100.0</td>\n      <td>645.0</td>\n      <td>70.823256</td>\n      <td>14.339487</td>\n      <td>22.0</td>\n      <td>62.0</td>\n      <td>72.0</td>\n      <td>81.0</td>\n      <td>100.0</td>\n    </tr>\n  </tbody>\n</table>\n<p>2 rows × 24 columns</p>\n</div>"
     },
     "execution_count": 16,
     "metadata": {},
     "output_type": "execute_result"
    }
   ],
   "source": [
    "hw2.groupby(['lunch']).describe()"
   ],
   "metadata": {
    "collapsed": false,
    "pycharm": {
     "name": "#%%\n"
    }
   }
  },
  {
   "cell_type": "code",
   "execution_count": null,
   "outputs": [],
   "source": [
    "df = pd.read_csv('column_hell.csv')\n",
    "selected_columns = df.filter(like='-')"
   ],
   "metadata": {
    "collapsed": false,
    "pycharm": {
     "name": "#%%\n"
    }
   }
  }
 ],
 "metadata": {
  "kernelspec": {
   "display_name": "Python 3",
   "language": "python",
   "name": "python3"
  },
  "language_info": {
   "codemirror_mode": {
    "name": "ipython",
    "version": 2
   },
   "file_extension": ".py",
   "mimetype": "text/x-python",
   "name": "python",
   "nbconvert_exporter": "python",
   "pygments_lexer": "ipython2",
   "version": "2.7.6"
  }
 },
 "nbformat": 4,
 "nbformat_minor": 0
}