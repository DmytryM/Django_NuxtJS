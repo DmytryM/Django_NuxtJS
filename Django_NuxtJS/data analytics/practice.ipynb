{
 "cells": [
  {
   "cell_type": "code",
   "execution_count": 1,
   "outputs": [],
   "source": [
    "# import pandas as pd\n",
    "# my_data = pd.DataFrame({'type': ['A', 'A', 'B', 'B'],\n",
    "#                    'value': [10, 14, 12, 23]}).head()\n",
    "# my_data"
   ],
   "metadata": {
    "collapsed": false,
    "pycharm": {
     "name": "#%%\n"
    }
   }
  },
  {
   "cell_type": "code",
   "execution_count": 4,
   "outputs": [],
   "source": [
    "# import pandas as pd\n",
    "#\n",
    "# my_stat = pd.read_csv('datasets/my_stat.csv')\n",
    "# subset_1 = my_stat.iloc[0:10, [0, 2]]\n",
    "# subset_2 = my_stat.iloc[:, [1, 3]].drop(my_stat.index[[0,4]])"
   ],
   "metadata": {
    "collapsed": false,
    "pycharm": {
     "name": "#%%\n"
    }
   }
  },
  {
   "cell_type": "code",
   "execution_count": 10,
   "outputs": [],
   "source": [
    "# import numpy as np\n",
    "# import pandas as pd\n",
    "#\n",
    "# my_stat = pd.read_csv('datasets/my_stat.csv')\n",
    "# my_stat['V5'] = my_stat['V1'] + my_stat['V4']\n",
    "# my_stat['V6'] = np.log(my_stat['V2'])"
   ],
   "metadata": {
    "collapsed": false,
    "pycharm": {
     "name": "#%%\n"
    }
   }
  },
  {
   "cell_type": "code",
   "execution_count": 3,
   "outputs": [],
   "source": [
    "import numpy as np\n",
    "import pandas as pd\n",
    "\n",
    "my_stat = pd.read_csv('datasets/my_stat.csv')\n",
    "my_stat['V5'] = my_stat['V1'] + my_stat['V4']\n",
    "my_stat['V6'] = np.log(my_stat['V2'])"
   ],
   "metadata": {
    "collapsed": false,
    "pycharm": {
     "name": "#%%\n"
    }
   }
  }
 ],
 "metadata": {
  "kernelspec": {
   "display_name": "Python 3",
   "language": "python",
   "name": "python3"
  },
  "language_info": {
   "codemirror_mode": {
    "name": "ipython",
    "version": 2
   },
   "file_extension": ".py",
   "mimetype": "text/x-python",
   "name": "python",
   "nbconvert_exporter": "python",
   "pygments_lexer": "ipython2",
   "version": "2.7.6"
  }
 },
 "nbformat": 4,
 "nbformat_minor": 0
}