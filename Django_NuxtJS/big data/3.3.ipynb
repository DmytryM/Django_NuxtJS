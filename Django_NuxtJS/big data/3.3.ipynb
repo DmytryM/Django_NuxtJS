{
 "cells": [
  {
   "cell_type": "code",
   "execution_count": 1,
   "outputs": [],
   "source": [
    "import pandas as pd"
   ],
   "metadata": {
    "collapsed": false,
    "pycharm": {
     "name": "#%%\n"
    }
   }
  },
  {
   "cell_type": "code",
   "execution_count": 2,
   "outputs": [
    {
     "data": {
      "text/plain": "                                                  Name  \\\n0                        10-Day Green Smoothie Cleanse   \n1                                    11/22/63: A Novel   \n2              12 Rules for Life: An Antidote to Chaos   \n3                               1984 (Signet Classics)   \n4    5,000 Awesome Facts (About Everything!) (Natio...   \n..                                                 ...   \n545       Wrecking Ball (Diary of a Wimpy Kid Book 14)   \n546  You Are a Badass: How to Stop Doubting Your Gr...   \n547  You Are a Badass: How to Stop Doubting Your Gr...   \n548  You Are a Badass: How to Stop Doubting Your Gr...   \n549  You Are a Badass: How to Stop Doubting Your Gr...   \n\n                       Author  User Rating  Reviews  Price  Year        Genre  \n0                    JJ Smith          4.7    17350      8  2016  Non Fiction  \n1                Stephen King          4.6     2052     22  2011      Fiction  \n2          Jordan B. Peterson          4.7    18979     15  2018  Non Fiction  \n3               George Orwell          4.7    21424      6  2017      Fiction  \n4    National Geographic Kids          4.8     7665     12  2019  Non Fiction  \n..                        ...          ...      ...    ...   ...          ...  \n545               Jeff Kinney          4.9     9413      8  2019      Fiction  \n546               Jen Sincero          4.7    14331      8  2016  Non Fiction  \n547               Jen Sincero          4.7    14331      8  2017  Non Fiction  \n548               Jen Sincero          4.7    14331      8  2018  Non Fiction  \n549               Jen Sincero          4.7    14331      8  2019  Non Fiction  \n\n[550 rows x 7 columns]",
      "text/html": "<div>\n<style scoped>\n    .dataframe tbody tr th:only-of-type {\n        vertical-align: middle;\n    }\n\n    .dataframe tbody tr th {\n        vertical-align: top;\n    }\n\n    .dataframe thead th {\n        text-align: right;\n    }\n</style>\n<table border=\"1\" class=\"dataframe\">\n  <thead>\n    <tr style=\"text-align: right;\">\n      <th></th>\n      <th>Name</th>\n      <th>Author</th>\n      <th>User Rating</th>\n      <th>Reviews</th>\n      <th>Price</th>\n      <th>Year</th>\n      <th>Genre</th>\n    </tr>\n  </thead>\n  <tbody>\n    <tr>\n      <th>0</th>\n      <td>10-Day Green Smoothie Cleanse</td>\n      <td>JJ Smith</td>\n      <td>4.7</td>\n      <td>17350</td>\n      <td>8</td>\n      <td>2016</td>\n      <td>Non Fiction</td>\n    </tr>\n    <tr>\n      <th>1</th>\n      <td>11/22/63: A Novel</td>\n      <td>Stephen King</td>\n      <td>4.6</td>\n      <td>2052</td>\n      <td>22</td>\n      <td>2011</td>\n      <td>Fiction</td>\n    </tr>\n    <tr>\n      <th>2</th>\n      <td>12 Rules for Life: An Antidote to Chaos</td>\n      <td>Jordan B. Peterson</td>\n      <td>4.7</td>\n      <td>18979</td>\n      <td>15</td>\n      <td>2018</td>\n      <td>Non Fiction</td>\n    </tr>\n    <tr>\n      <th>3</th>\n      <td>1984 (Signet Classics)</td>\n      <td>George Orwell</td>\n      <td>4.7</td>\n      <td>21424</td>\n      <td>6</td>\n      <td>2017</td>\n      <td>Fiction</td>\n    </tr>\n    <tr>\n      <th>4</th>\n      <td>5,000 Awesome Facts (About Everything!) (Natio...</td>\n      <td>National Geographic Kids</td>\n      <td>4.8</td>\n      <td>7665</td>\n      <td>12</td>\n      <td>2019</td>\n      <td>Non Fiction</td>\n    </tr>\n    <tr>\n      <th>...</th>\n      <td>...</td>\n      <td>...</td>\n      <td>...</td>\n      <td>...</td>\n      <td>...</td>\n      <td>...</td>\n      <td>...</td>\n    </tr>\n    <tr>\n      <th>545</th>\n      <td>Wrecking Ball (Diary of a Wimpy Kid Book 14)</td>\n      <td>Jeff Kinney</td>\n      <td>4.9</td>\n      <td>9413</td>\n      <td>8</td>\n      <td>2019</td>\n      <td>Fiction</td>\n    </tr>\n    <tr>\n      <th>546</th>\n      <td>You Are a Badass: How to Stop Doubting Your Gr...</td>\n      <td>Jen Sincero</td>\n      <td>4.7</td>\n      <td>14331</td>\n      <td>8</td>\n      <td>2016</td>\n      <td>Non Fiction</td>\n    </tr>\n    <tr>\n      <th>547</th>\n      <td>You Are a Badass: How to Stop Doubting Your Gr...</td>\n      <td>Jen Sincero</td>\n      <td>4.7</td>\n      <td>14331</td>\n      <td>8</td>\n      <td>2017</td>\n      <td>Non Fiction</td>\n    </tr>\n    <tr>\n      <th>548</th>\n      <td>You Are a Badass: How to Stop Doubting Your Gr...</td>\n      <td>Jen Sincero</td>\n      <td>4.7</td>\n      <td>14331</td>\n      <td>8</td>\n      <td>2018</td>\n      <td>Non Fiction</td>\n    </tr>\n    <tr>\n      <th>549</th>\n      <td>You Are a Badass: How to Stop Doubting Your Gr...</td>\n      <td>Jen Sincero</td>\n      <td>4.7</td>\n      <td>14331</td>\n      <td>8</td>\n      <td>2019</td>\n      <td>Non Fiction</td>\n    </tr>\n  </tbody>\n</table>\n<p>550 rows × 7 columns</p>\n</div>"
     },
     "execution_count": 2,
     "metadata": {},
     "output_type": "execute_result"
    }
   ],
   "source": [
    "data = pd.read_csv(\"bestsellers with categories.csv\")\n",
    "data"
   ],
   "metadata": {
    "collapsed": false,
    "pycharm": {
     "name": "#%%\n"
    }
   }
  },
  {
   "cell_type": "code",
   "execution_count": 3,
   "outputs": [
    {
     "data": {
      "text/plain": "                                                  Name  \\\n0                        10-Day Green Smoothie Cleanse   \n1                                    11/22/63: A Novel   \n2              12 Rules for Life: An Antidote to Chaos   \n3                               1984 (Signet Classics)   \n4    5,000 Awesome Facts (About Everything!) (Natio...   \n..                                                 ...   \n545       Wrecking Ball (Diary of a Wimpy Kid Book 14)   \n546  You Are a Badass: How to Stop Doubting Your Gr...   \n547  You Are a Badass: How to Stop Doubting Your Gr...   \n548  You Are a Badass: How to Stop Doubting Your Gr...   \n549  You Are a Badass: How to Stop Doubting Your Gr...   \n\n                       Author  \n0                    JJ Smith  \n1                Stephen King  \n2          Jordan B. Peterson  \n3               George Orwell  \n4    National Geographic Kids  \n..                        ...  \n545               Jeff Kinney  \n546               Jen Sincero  \n547               Jen Sincero  \n548               Jen Sincero  \n549               Jen Sincero  \n\n[550 rows x 2 columns]",
      "text/html": "<div>\n<style scoped>\n    .dataframe tbody tr th:only-of-type {\n        vertical-align: middle;\n    }\n\n    .dataframe tbody tr th {\n        vertical-align: top;\n    }\n\n    .dataframe thead th {\n        text-align: right;\n    }\n</style>\n<table border=\"1\" class=\"dataframe\">\n  <thead>\n    <tr style=\"text-align: right;\">\n      <th></th>\n      <th>Name</th>\n      <th>Author</th>\n    </tr>\n  </thead>\n  <tbody>\n    <tr>\n      <th>0</th>\n      <td>10-Day Green Smoothie Cleanse</td>\n      <td>JJ Smith</td>\n    </tr>\n    <tr>\n      <th>1</th>\n      <td>11/22/63: A Novel</td>\n      <td>Stephen King</td>\n    </tr>\n    <tr>\n      <th>2</th>\n      <td>12 Rules for Life: An Antidote to Chaos</td>\n      <td>Jordan B. Peterson</td>\n    </tr>\n    <tr>\n      <th>3</th>\n      <td>1984 (Signet Classics)</td>\n      <td>George Orwell</td>\n    </tr>\n    <tr>\n      <th>4</th>\n      <td>5,000 Awesome Facts (About Everything!) (Natio...</td>\n      <td>National Geographic Kids</td>\n    </tr>\n    <tr>\n      <th>...</th>\n      <td>...</td>\n      <td>...</td>\n    </tr>\n    <tr>\n      <th>545</th>\n      <td>Wrecking Ball (Diary of a Wimpy Kid Book 14)</td>\n      <td>Jeff Kinney</td>\n    </tr>\n    <tr>\n      <th>546</th>\n      <td>You Are a Badass: How to Stop Doubting Your Gr...</td>\n      <td>Jen Sincero</td>\n    </tr>\n    <tr>\n      <th>547</th>\n      <td>You Are a Badass: How to Stop Doubting Your Gr...</td>\n      <td>Jen Sincero</td>\n    </tr>\n    <tr>\n      <th>548</th>\n      <td>You Are a Badass: How to Stop Doubting Your Gr...</td>\n      <td>Jen Sincero</td>\n    </tr>\n    <tr>\n      <th>549</th>\n      <td>You Are a Badass: How to Stop Doubting Your Gr...</td>\n      <td>Jen Sincero</td>\n    </tr>\n  </tbody>\n</table>\n<p>550 rows × 2 columns</p>\n</div>"
     },
     "execution_count": 3,
     "metadata": {},
     "output_type": "execute_result"
    }
   ],
   "source": [
    "data[['Name', 'Author']]"
   ],
   "metadata": {
    "collapsed": false,
    "pycharm": {
     "name": "#%%\n"
    }
   }
  },
  {
   "cell_type": "code",
   "execution_count": 4,
   "outputs": [],
   "source": [
    "# for col in data.columns:\n",
    "#     data[col] = data[col].astype(\"str\")"
   ],
   "metadata": {
    "collapsed": false,
    "pycharm": {
     "name": "#%%\n"
    }
   }
  },
  {
   "cell_type": "code",
   "execution_count": 5,
   "outputs": [],
   "source": [
    "data = data.rename({\"User Rating\": \"user_rating\"}, axis=1)"
   ],
   "metadata": {
    "collapsed": false,
    "pycharm": {
     "name": "#%%\n"
    }
   }
  },
  {
   "cell_type": "code",
   "execution_count": 6,
   "outputs": [],
   "source": [
    "data.loc[data[\"user_rating\"] < 4, \"Price\"] = data[data[\"user_rating\"] < 4][\"Price\"] * 0.8"
   ],
   "metadata": {
    "collapsed": false,
    "pycharm": {
     "name": "#%%\n"
    }
   }
  },
  {
   "cell_type": "code",
   "execution_count": 7,
   "outputs": [
    {
     "data": {
      "text/plain": "                                                  Name         Author  \\\n22                                           Allegiant  Veronica Roth   \n106  Fifty Shades of Grey: Book One of the Fifty Sh...      E L James   \n107  Fifty Shades of Grey: Book One of the Fifty Sh...      E L James   \n132                         Go Set a Watchman: A Novel     Harper Lee   \n353                                 The Casual Vacancy   J.K. Rowling   \n392  The Goldfinch: A Novel (Pulitzer Prize for Fic...    Donna Tartt   \n393  The Goldfinch: A Novel (Pulitzer Prize for Fic...    Donna Tartt   \n\n     user_rating  Reviews  Price  Year    Genre  \n22           3.9     6310   10.4  2013  Fiction  \n106          3.8    47265   11.2  2012  Fiction  \n107          3.8    47265   11.2  2013  Fiction  \n132          3.6    14982   15.2  2015  Fiction  \n353          3.3     9372    9.6  2012  Fiction  \n392          3.9    33844   16.0  2013  Fiction  \n393          3.9    33844   16.0  2014  Fiction  ",
      "text/html": "<div>\n<style scoped>\n    .dataframe tbody tr th:only-of-type {\n        vertical-align: middle;\n    }\n\n    .dataframe tbody tr th {\n        vertical-align: top;\n    }\n\n    .dataframe thead th {\n        text-align: right;\n    }\n</style>\n<table border=\"1\" class=\"dataframe\">\n  <thead>\n    <tr style=\"text-align: right;\">\n      <th></th>\n      <th>Name</th>\n      <th>Author</th>\n      <th>user_rating</th>\n      <th>Reviews</th>\n      <th>Price</th>\n      <th>Year</th>\n      <th>Genre</th>\n    </tr>\n  </thead>\n  <tbody>\n    <tr>\n      <th>22</th>\n      <td>Allegiant</td>\n      <td>Veronica Roth</td>\n      <td>3.9</td>\n      <td>6310</td>\n      <td>10.4</td>\n      <td>2013</td>\n      <td>Fiction</td>\n    </tr>\n    <tr>\n      <th>106</th>\n      <td>Fifty Shades of Grey: Book One of the Fifty Sh...</td>\n      <td>E L James</td>\n      <td>3.8</td>\n      <td>47265</td>\n      <td>11.2</td>\n      <td>2012</td>\n      <td>Fiction</td>\n    </tr>\n    <tr>\n      <th>107</th>\n      <td>Fifty Shades of Grey: Book One of the Fifty Sh...</td>\n      <td>E L James</td>\n      <td>3.8</td>\n      <td>47265</td>\n      <td>11.2</td>\n      <td>2013</td>\n      <td>Fiction</td>\n    </tr>\n    <tr>\n      <th>132</th>\n      <td>Go Set a Watchman: A Novel</td>\n      <td>Harper Lee</td>\n      <td>3.6</td>\n      <td>14982</td>\n      <td>15.2</td>\n      <td>2015</td>\n      <td>Fiction</td>\n    </tr>\n    <tr>\n      <th>353</th>\n      <td>The Casual Vacancy</td>\n      <td>J.K. Rowling</td>\n      <td>3.3</td>\n      <td>9372</td>\n      <td>9.6</td>\n      <td>2012</td>\n      <td>Fiction</td>\n    </tr>\n    <tr>\n      <th>392</th>\n      <td>The Goldfinch: A Novel (Pulitzer Prize for Fic...</td>\n      <td>Donna Tartt</td>\n      <td>3.9</td>\n      <td>33844</td>\n      <td>16.0</td>\n      <td>2013</td>\n      <td>Fiction</td>\n    </tr>\n    <tr>\n      <th>393</th>\n      <td>The Goldfinch: A Novel (Pulitzer Prize for Fic...</td>\n      <td>Donna Tartt</td>\n      <td>3.9</td>\n      <td>33844</td>\n      <td>16.0</td>\n      <td>2014</td>\n      <td>Fiction</td>\n    </tr>\n  </tbody>\n</table>\n</div>"
     },
     "execution_count": 7,
     "metadata": {},
     "output_type": "execute_result"
    }
   ],
   "source": [
    "data[data[\"user_rating\"] < 4]"
   ],
   "metadata": {
    "collapsed": false,
    "pycharm": {
     "name": "#%%\n"
    }
   }
  },
  {
   "cell_type": "code",
   "execution_count": 8,
   "outputs": [],
   "source": [
    "# data = pd.DataFrame(\n",
    "#     {\n",
    "#         \"a\": [3, 1, 2, 3, 4],\n",
    "#         \"b\": [1, 6, 4, 6, 9],\n",
    "#     }\n",
    "# )"
   ],
   "metadata": {
    "collapsed": false,
    "pycharm": {
     "name": "#%%\n"
    }
   }
  },
  {
   "cell_type": "code",
   "execution_count": 9,
   "outputs": [],
   "source": [
    "# data[\"a\"].mean()"
   ],
   "metadata": {
    "collapsed": false,
    "pycharm": {
     "name": "#%%\n"
    }
   }
  },
  {
   "cell_type": "code",
   "execution_count": 10,
   "outputs": [],
   "source": [
    "# data[\"a\"] + 5"
   ],
   "metadata": {
    "collapsed": false,
    "pycharm": {
     "name": "#%%\n"
    }
   }
  },
  {
   "cell_type": "code",
   "execution_count": 11,
   "outputs": [],
   "source": [
    "data[\"name_len\"] = data[\"Name\"].map(len)"
   ],
   "metadata": {
    "collapsed": false,
    "pycharm": {
     "name": "#%%\n"
    }
   }
  },
  {
   "cell_type": "code",
   "execution_count": 12,
   "outputs": [
    {
     "data": {
      "text/plain": "                                                  Name            Author  \\\n447  The Pioneer Woman Cooks: Dinnertime - Comfort ...      Ree Drummond   \n99   Enchanted Forest: An Inky Quest and Coloring b...   Johanna Basford   \n294  School Zone - Big Preschool Workbook - Ages 4 ...       School Zone   \n293  School Zone - Big Preschool Workbook - Ages 4 ...       School Zone   \n207  Last Week Tonight with John Oliver Presents A ...        Jill Twiss   \n..                                                 ...               ...   \n542                                             Wonder     R. J. Palacio   \n543                                             Wonder     R. J. Palacio   \n544                                             Wonder     R. J. Palacio   \n150                                               Guts  Raina Telgemeier   \n217                                               Life    Keith Richards   \n\n     user_rating  Reviews  Price  Year        Genre  name_len  \n447          4.8     3428   14.0  2015  Non Fiction       121  \n99           4.7     5413    9.0  2015  Non Fiction       121  \n294          4.8    23047    6.0  2019  Non Fiction       119  \n293          4.8    23047    6.0  2018  Non Fiction       119  \n207          4.9    11881   13.0  2018      Fiction       119  \n..           ...      ...    ...   ...          ...       ...  \n542          4.8    21625    9.0  2015      Fiction         6  \n543          4.8    21625    9.0  2016      Fiction         6  \n544          4.8    21625    9.0  2017      Fiction         6  \n150          4.8     5476    7.0  2019  Non Fiction         4  \n217          4.5     2752   18.0  2010  Non Fiction         4  \n\n[550 rows x 8 columns]",
      "text/html": "<div>\n<style scoped>\n    .dataframe tbody tr th:only-of-type {\n        vertical-align: middle;\n    }\n\n    .dataframe tbody tr th {\n        vertical-align: top;\n    }\n\n    .dataframe thead th {\n        text-align: right;\n    }\n</style>\n<table border=\"1\" class=\"dataframe\">\n  <thead>\n    <tr style=\"text-align: right;\">\n      <th></th>\n      <th>Name</th>\n      <th>Author</th>\n      <th>user_rating</th>\n      <th>Reviews</th>\n      <th>Price</th>\n      <th>Year</th>\n      <th>Genre</th>\n      <th>name_len</th>\n    </tr>\n  </thead>\n  <tbody>\n    <tr>\n      <th>447</th>\n      <td>The Pioneer Woman Cooks: Dinnertime - Comfort ...</td>\n      <td>Ree Drummond</td>\n      <td>4.8</td>\n      <td>3428</td>\n      <td>14.0</td>\n      <td>2015</td>\n      <td>Non Fiction</td>\n      <td>121</td>\n    </tr>\n    <tr>\n      <th>99</th>\n      <td>Enchanted Forest: An Inky Quest and Coloring b...</td>\n      <td>Johanna Basford</td>\n      <td>4.7</td>\n      <td>5413</td>\n      <td>9.0</td>\n      <td>2015</td>\n      <td>Non Fiction</td>\n      <td>121</td>\n    </tr>\n    <tr>\n      <th>294</th>\n      <td>School Zone - Big Preschool Workbook - Ages 4 ...</td>\n      <td>School Zone</td>\n      <td>4.8</td>\n      <td>23047</td>\n      <td>6.0</td>\n      <td>2019</td>\n      <td>Non Fiction</td>\n      <td>119</td>\n    </tr>\n    <tr>\n      <th>293</th>\n      <td>School Zone - Big Preschool Workbook - Ages 4 ...</td>\n      <td>School Zone</td>\n      <td>4.8</td>\n      <td>23047</td>\n      <td>6.0</td>\n      <td>2018</td>\n      <td>Non Fiction</td>\n      <td>119</td>\n    </tr>\n    <tr>\n      <th>207</th>\n      <td>Last Week Tonight with John Oliver Presents A ...</td>\n      <td>Jill Twiss</td>\n      <td>4.9</td>\n      <td>11881</td>\n      <td>13.0</td>\n      <td>2018</td>\n      <td>Fiction</td>\n      <td>119</td>\n    </tr>\n    <tr>\n      <th>...</th>\n      <td>...</td>\n      <td>...</td>\n      <td>...</td>\n      <td>...</td>\n      <td>...</td>\n      <td>...</td>\n      <td>...</td>\n      <td>...</td>\n    </tr>\n    <tr>\n      <th>542</th>\n      <td>Wonder</td>\n      <td>R. J. Palacio</td>\n      <td>4.8</td>\n      <td>21625</td>\n      <td>9.0</td>\n      <td>2015</td>\n      <td>Fiction</td>\n      <td>6</td>\n    </tr>\n    <tr>\n      <th>543</th>\n      <td>Wonder</td>\n      <td>R. J. Palacio</td>\n      <td>4.8</td>\n      <td>21625</td>\n      <td>9.0</td>\n      <td>2016</td>\n      <td>Fiction</td>\n      <td>6</td>\n    </tr>\n    <tr>\n      <th>544</th>\n      <td>Wonder</td>\n      <td>R. J. Palacio</td>\n      <td>4.8</td>\n      <td>21625</td>\n      <td>9.0</td>\n      <td>2017</td>\n      <td>Fiction</td>\n      <td>6</td>\n    </tr>\n    <tr>\n      <th>150</th>\n      <td>Guts</td>\n      <td>Raina Telgemeier</td>\n      <td>4.8</td>\n      <td>5476</td>\n      <td>7.0</td>\n      <td>2019</td>\n      <td>Non Fiction</td>\n      <td>4</td>\n    </tr>\n    <tr>\n      <th>217</th>\n      <td>Life</td>\n      <td>Keith Richards</td>\n      <td>4.5</td>\n      <td>2752</td>\n      <td>18.0</td>\n      <td>2010</td>\n      <td>Non Fiction</td>\n      <td>4</td>\n    </tr>\n  </tbody>\n</table>\n<p>550 rows × 8 columns</p>\n</div>"
     },
     "execution_count": 12,
     "metadata": {},
     "output_type": "execute_result"
    }
   ],
   "source": [
    "data.sort_values(\"name_len\", ascending=False)"
   ],
   "metadata": {
    "collapsed": false,
    "pycharm": {
     "name": "#%%\n"
    }
   }
  },
  {
   "cell_type": "code",
   "execution_count": 13,
   "outputs": [
    {
     "data": {
      "text/plain": "Genre\nFiction        240\nNon Fiction    310\nName: Name, dtype: int64"
     },
     "execution_count": 13,
     "metadata": {},
     "output_type": "execute_result"
    }
   ],
   "source": [
    "data.groupby(\"Genre\")[\"Name\"].count()"
   ],
   "metadata": {
    "collapsed": false,
    "pycharm": {
     "name": "#%%\n"
    }
   }
  },
  {
   "cell_type": "code",
   "execution_count": 14,
   "outputs": [
    {
     "data": {
      "text/plain": "Genre        Author          \nFiction      Abraham Verghese    2\n             Adam Mansbach       1\n             Adir Levy           1\n             Alan Moore          1\n             Alex Michaelides    1\n                                ..\nNon Fiction  Tucker Carlson      1\n             W. Cleon Skousen    1\n             Walter Isaacson     3\n             William Davis       2\n             Zhi Gang Sha        2\nName: Name, Length: 250, dtype: int64"
     },
     "execution_count": 14,
     "metadata": {},
     "output_type": "execute_result"
    }
   ],
   "source": [
    "data.groupby([\"Genre\", \"Author\"])[\"Name\"].count()"
   ],
   "metadata": {
    "collapsed": false,
    "pycharm": {
     "name": "#%%\n"
    }
   }
  },
  {
   "cell_type": "code",
   "execution_count": 16,
   "outputs": [
    {
     "data": {
      "text/plain": "                                                  Name  \\\n0                        10-Day Green Smoothie Cleanse   \n1                                    11/22/63: A Novel   \n2              12 Rules for Life: An Antidote to Chaos   \n3                               1984 (Signet Classics)   \n4    5,000 Awesome Facts (About Everything!) (Natio...   \n..                                                 ...   \n545       Wrecking Ball (Diary of a Wimpy Kid Book 14)   \n546  You Are a Badass: How to Stop Doubting Your Gr...   \n547  You Are a Badass: How to Stop Doubting Your Gr...   \n548  You Are a Badass: How to Stop Doubting Your Gr...   \n549  You Are a Badass: How to Stop Doubting Your Gr...   \n\n                       Author  user_rating  Reviews  Price  Year        Genre  \\\n0                    JJ Smith          4.7    17350    8.0  2016  Non Fiction   \n1                Stephen King          4.6     2052   22.0  2011      Fiction   \n2          Jordan B. Peterson          4.7    18979   15.0  2018  Non Fiction   \n3               George Orwell          4.7    21424    6.0  2017      Fiction   \n4    National Geographic Kids          4.8     7665   12.0  2019  Non Fiction   \n..                        ...          ...      ...    ...   ...          ...   \n545               Jeff Kinney          4.9     9413    8.0  2019      Fiction   \n546               Jen Sincero          4.7    14331    8.0  2016  Non Fiction   \n547               Jen Sincero          4.7    14331    8.0  2017  Non Fiction   \n548               Jen Sincero          4.7    14331    8.0  2018  Non Fiction   \n549               Jen Sincero          4.7    14331    8.0  2019  Non Fiction   \n\n     name_len   dev  \n0          29  0.00  \n1          17  5.25  \n2          39  0.00  \n3          22  0.00  \n4          66  0.00  \n..        ...   ...  \n545        44 -1.25  \n546        86  0.00  \n547        86  0.00  \n548        86  0.00  \n549        86  0.00  \n\n[550 rows x 9 columns]",
      "text/html": "<div>\n<style scoped>\n    .dataframe tbody tr th:only-of-type {\n        vertical-align: middle;\n    }\n\n    .dataframe tbody tr th {\n        vertical-align: top;\n    }\n\n    .dataframe thead th {\n        text-align: right;\n    }\n</style>\n<table border=\"1\" class=\"dataframe\">\n  <thead>\n    <tr style=\"text-align: right;\">\n      <th></th>\n      <th>Name</th>\n      <th>Author</th>\n      <th>user_rating</th>\n      <th>Reviews</th>\n      <th>Price</th>\n      <th>Year</th>\n      <th>Genre</th>\n      <th>name_len</th>\n      <th>dev</th>\n    </tr>\n  </thead>\n  <tbody>\n    <tr>\n      <th>0</th>\n      <td>10-Day Green Smoothie Cleanse</td>\n      <td>JJ Smith</td>\n      <td>4.7</td>\n      <td>17350</td>\n      <td>8.0</td>\n      <td>2016</td>\n      <td>Non Fiction</td>\n      <td>29</td>\n      <td>0.00</td>\n    </tr>\n    <tr>\n      <th>1</th>\n      <td>11/22/63: A Novel</td>\n      <td>Stephen King</td>\n      <td>4.6</td>\n      <td>2052</td>\n      <td>22.0</td>\n      <td>2011</td>\n      <td>Fiction</td>\n      <td>17</td>\n      <td>5.25</td>\n    </tr>\n    <tr>\n      <th>2</th>\n      <td>12 Rules for Life: An Antidote to Chaos</td>\n      <td>Jordan B. Peterson</td>\n      <td>4.7</td>\n      <td>18979</td>\n      <td>15.0</td>\n      <td>2018</td>\n      <td>Non Fiction</td>\n      <td>39</td>\n      <td>0.00</td>\n    </tr>\n    <tr>\n      <th>3</th>\n      <td>1984 (Signet Classics)</td>\n      <td>George Orwell</td>\n      <td>4.7</td>\n      <td>21424</td>\n      <td>6.0</td>\n      <td>2017</td>\n      <td>Fiction</td>\n      <td>22</td>\n      <td>0.00</td>\n    </tr>\n    <tr>\n      <th>4</th>\n      <td>5,000 Awesome Facts (About Everything!) (Natio...</td>\n      <td>National Geographic Kids</td>\n      <td>4.8</td>\n      <td>7665</td>\n      <td>12.0</td>\n      <td>2019</td>\n      <td>Non Fiction</td>\n      <td>66</td>\n      <td>0.00</td>\n    </tr>\n    <tr>\n      <th>...</th>\n      <td>...</td>\n      <td>...</td>\n      <td>...</td>\n      <td>...</td>\n      <td>...</td>\n      <td>...</td>\n      <td>...</td>\n      <td>...</td>\n      <td>...</td>\n    </tr>\n    <tr>\n      <th>545</th>\n      <td>Wrecking Ball (Diary of a Wimpy Kid Book 14)</td>\n      <td>Jeff Kinney</td>\n      <td>4.9</td>\n      <td>9413</td>\n      <td>8.0</td>\n      <td>2019</td>\n      <td>Fiction</td>\n      <td>44</td>\n      <td>-1.25</td>\n    </tr>\n    <tr>\n      <th>546</th>\n      <td>You Are a Badass: How to Stop Doubting Your Gr...</td>\n      <td>Jen Sincero</td>\n      <td>4.7</td>\n      <td>14331</td>\n      <td>8.0</td>\n      <td>2016</td>\n      <td>Non Fiction</td>\n      <td>86</td>\n      <td>0.00</td>\n    </tr>\n    <tr>\n      <th>547</th>\n      <td>You Are a Badass: How to Stop Doubting Your Gr...</td>\n      <td>Jen Sincero</td>\n      <td>4.7</td>\n      <td>14331</td>\n      <td>8.0</td>\n      <td>2017</td>\n      <td>Non Fiction</td>\n      <td>86</td>\n      <td>0.00</td>\n    </tr>\n    <tr>\n      <th>548</th>\n      <td>You Are a Badass: How to Stop Doubting Your Gr...</td>\n      <td>Jen Sincero</td>\n      <td>4.7</td>\n      <td>14331</td>\n      <td>8.0</td>\n      <td>2018</td>\n      <td>Non Fiction</td>\n      <td>86</td>\n      <td>0.00</td>\n    </tr>\n    <tr>\n      <th>549</th>\n      <td>You Are a Badass: How to Stop Doubting Your Gr...</td>\n      <td>Jen Sincero</td>\n      <td>4.7</td>\n      <td>14331</td>\n      <td>8.0</td>\n      <td>2019</td>\n      <td>Non Fiction</td>\n      <td>86</td>\n      <td>0.00</td>\n    </tr>\n  </tbody>\n</table>\n<p>550 rows × 9 columns</p>\n</div>"
     },
     "execution_count": 16,
     "metadata": {},
     "output_type": "execute_result"
    }
   ],
   "source": [
    "data[\"dev\"] = data[\"Price\"] - data.groupby(\"Author\")[\"Price\"].transform(\"mean\")\n",
    "data"
   ],
   "metadata": {
    "collapsed": false,
    "pycharm": {
     "name": "#%%\n"
    }
   }
  },
  {
   "cell_type": "code",
   "execution_count": 17,
   "outputs": [
    {
     "data": {
      "text/plain": "  Label  Values\n0     A    10.0\n1     B    22.0\n2     A     9.0\n3     B     NaN\n4     A    12.0\n5     B    15.0",
      "text/html": "<div>\n<style scoped>\n    .dataframe tbody tr th:only-of-type {\n        vertical-align: middle;\n    }\n\n    .dataframe tbody tr th {\n        vertical-align: top;\n    }\n\n    .dataframe thead th {\n        text-align: right;\n    }\n</style>\n<table border=\"1\" class=\"dataframe\">\n  <thead>\n    <tr style=\"text-align: right;\">\n      <th></th>\n      <th>Label</th>\n      <th>Values</th>\n    </tr>\n  </thead>\n  <tbody>\n    <tr>\n      <th>0</th>\n      <td>A</td>\n      <td>10.0</td>\n    </tr>\n    <tr>\n      <th>1</th>\n      <td>B</td>\n      <td>22.0</td>\n    </tr>\n    <tr>\n      <th>2</th>\n      <td>A</td>\n      <td>9.0</td>\n    </tr>\n    <tr>\n      <th>3</th>\n      <td>B</td>\n      <td>NaN</td>\n    </tr>\n    <tr>\n      <th>4</th>\n      <td>A</td>\n      <td>12.0</td>\n    </tr>\n    <tr>\n      <th>5</th>\n      <td>B</td>\n      <td>15.0</td>\n    </tr>\n  </tbody>\n</table>\n</div>"
     },
     "execution_count": 17,
     "metadata": {},
     "output_type": "execute_result"
    }
   ],
   "source": [
    "data = pd.DataFrame({\"Label\": list(\"ABABAB\"), \"Values\": [10, 22, 9, None, 12, 15]})\n",
    "data"
   ],
   "metadata": {
    "collapsed": false,
    "pycharm": {
     "name": "#%%\n"
    }
   }
  },
  {
   "cell_type": "code",
   "execution_count": 18,
   "outputs": [
    {
     "data": {
      "text/plain": "   Values\n0    10.0\n1    22.0\n2     9.0\n3    18.5\n4    12.0\n5    15.0",
      "text/html": "<div>\n<style scoped>\n    .dataframe tbody tr th:only-of-type {\n        vertical-align: middle;\n    }\n\n    .dataframe tbody tr th {\n        vertical-align: top;\n    }\n\n    .dataframe thead th {\n        text-align: right;\n    }\n</style>\n<table border=\"1\" class=\"dataframe\">\n  <thead>\n    <tr style=\"text-align: right;\">\n      <th></th>\n      <th>Values</th>\n    </tr>\n  </thead>\n  <tbody>\n    <tr>\n      <th>0</th>\n      <td>10.0</td>\n    </tr>\n    <tr>\n      <th>1</th>\n      <td>22.0</td>\n    </tr>\n    <tr>\n      <th>2</th>\n      <td>9.0</td>\n    </tr>\n    <tr>\n      <th>3</th>\n      <td>18.5</td>\n    </tr>\n    <tr>\n      <th>4</th>\n      <td>12.0</td>\n    </tr>\n    <tr>\n      <th>5</th>\n      <td>15.0</td>\n    </tr>\n  </tbody>\n</table>\n</div>"
     },
     "execution_count": 18,
     "metadata": {},
     "output_type": "execute_result"
    }
   ],
   "source": [
    "data.groupby(\"Label\").transform(lambda x: x.fillna(x.mean()))"
   ],
   "metadata": {
    "collapsed": false,
    "pycharm": {
     "name": "#%%\n"
    }
   }
  },
  {
   "cell_type": "code",
   "execution_count": null,
   "outputs": [],
   "source": [],
   "metadata": {
    "collapsed": false,
    "pycharm": {
     "name": "#%%\n"
    }
   }
  }
 ],
 "metadata": {
  "kernelspec": {
   "display_name": "Python 3",
   "language": "python",
   "name": "python3"
  },
  "language_info": {
   "codemirror_mode": {
    "name": "ipython",
    "version": 2
   },
   "file_extension": ".py",
   "mimetype": "text/x-python",
   "name": "python",
   "nbconvert_exporter": "python",
   "pygments_lexer": "ipython2",
   "version": "2.7.6"
  }
 },
 "nbformat": 4,
 "nbformat_minor": 0
}