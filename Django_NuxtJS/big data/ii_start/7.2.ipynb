{
 "cells": [
  {
   "cell_type": "code",
   "execution_count": 2,
   "outputs": [],
   "source": [
    "# import numpy as np\n",
    "#\n",
    "# def cumulative_mean(X):\n",
    "#     res = np.cumsum(X)\n",
    "#     k = np.arange(1, len(res) + 1)\n",
    "#     result = res/k\n",
    "#     return result"
   ],
   "metadata": {
    "collapsed": false,
    "pycharm": {
     "name": "#%%\n"
    }
   }
  },
  {
   "cell_type": "code",
   "execution_count": 19,
   "outputs": [
    {
     "ename": "AttributeError",
     "evalue": "module 'numpy' has no attribute 'nrange'",
     "output_type": "error",
     "traceback": [
      "\u001B[1;31m---------------------------------------------------------------------------\u001B[0m",
      "\u001B[1;31mAttributeError\u001B[0m                            Traceback (most recent call last)",
      "Input \u001B[1;32mIn [19]\u001B[0m, in \u001B[0;36m<cell line: 11>\u001B[1;34m()\u001B[0m\n\u001B[0;32m      8\u001B[0m     \u001B[38;5;28;01mreturn\u001B[39;00m  result\n\u001B[0;32m     10\u001B[0m a \u001B[38;5;241m=\u001B[39m np\u001B[38;5;241m.\u001B[39marray([\u001B[38;5;241m1\u001B[39m, \u001B[38;5;241m2\u001B[39m, \u001B[38;5;241m4\u001B[39m, \u001B[38;5;241m-\u001B[39m\u001B[38;5;241m9\u001B[39m, \u001B[38;5;241m1\u001B[39m, \u001B[38;5;241m1\u001B[39m, \u001B[38;5;241m1\u001B[39m, \u001B[38;5;241m1\u001B[39m])\u001B[38;5;241m.\u001B[39mreshape(\u001B[38;5;241m2\u001B[39m, \u001B[38;5;241m4\u001B[39m)\n\u001B[1;32m---> 11\u001B[0m \u001B[38;5;28mprint\u001B[39m(\u001B[43mcumulative_mean_2d\u001B[49m\u001B[43m(\u001B[49m\u001B[43ma\u001B[49m\u001B[43m)\u001B[49m)\n",
      "Input \u001B[1;32mIn [19]\u001B[0m, in \u001B[0;36mcumulative_mean_2d\u001B[1;34m(A)\u001B[0m\n\u001B[0;32m      4\u001B[0m \u001B[38;5;28;01mdef\u001B[39;00m \u001B[38;5;21mcumulative_mean_2d\u001B[39m(A):\n\u001B[0;32m      5\u001B[0m     res \u001B[38;5;241m=\u001B[39m A\u001B[38;5;241m.\u001B[39mcumsum(axis\u001B[38;5;241m=\u001B[39m\u001B[38;5;241m1\u001B[39m)\n\u001B[1;32m----> 6\u001B[0m     k \u001B[38;5;241m=\u001B[39m \u001B[43mnp\u001B[49m\u001B[38;5;241;43m.\u001B[39;49m\u001B[43mnrange\u001B[49m(\u001B[38;5;241m1\u001B[39m, \u001B[38;5;28mlen\u001B[39m(res) \u001B[38;5;241m+\u001B[39m \u001B[38;5;241m1\u001B[39m)\n\u001B[0;32m      7\u001B[0m     result \u001B[38;5;241m=\u001B[39m res\u001B[38;5;241m/\u001B[39mk\n\u001B[0;32m      8\u001B[0m     \u001B[38;5;28;01mreturn\u001B[39;00m  result\n",
      "File \u001B[1;32mD:\\Projects_py\\Django_NuxtJS\\venv\\lib\\site-packages\\numpy\\__init__.py:315\u001B[0m, in \u001B[0;36m__getattr__\u001B[1;34m(attr)\u001B[0m\n\u001B[0;32m    312\u001B[0m     \u001B[38;5;28;01mfrom\u001B[39;00m \u001B[38;5;21;01m.\u001B[39;00m\u001B[38;5;21;01mtesting\u001B[39;00m \u001B[38;5;28;01mimport\u001B[39;00m Tester\n\u001B[0;32m    313\u001B[0m     \u001B[38;5;28;01mreturn\u001B[39;00m Tester\n\u001B[1;32m--> 315\u001B[0m \u001B[38;5;28;01mraise\u001B[39;00m \u001B[38;5;167;01mAttributeError\u001B[39;00m(\u001B[38;5;124m\"\u001B[39m\u001B[38;5;124mmodule \u001B[39m\u001B[38;5;132;01m{!r}\u001B[39;00m\u001B[38;5;124m has no attribute \u001B[39m\u001B[38;5;124m\"\u001B[39m\n\u001B[0;32m    316\u001B[0m                      \u001B[38;5;124m\"\u001B[39m\u001B[38;5;132;01m{!r}\u001B[39;00m\u001B[38;5;124m\"\u001B[39m\u001B[38;5;241m.\u001B[39mformat(\u001B[38;5;18m__name__\u001B[39m, attr))\n",
      "\u001B[1;31mAttributeError\u001B[0m: module 'numpy' has no attribute 'nrange'"
     ]
    }
   ],
   "source": [
    "import numpy as np\n",
    "\n",
    "\n",
    "def cumulative_mean_2d(A):\n",
    "    res = A.cumsum(axis=1)\n",
    "    k = np.arange(1, len(res) + 1)\n",
    "    result = res/k\n",
    "    return  result\n",
    "\n",
    "a = np.array([1, 2, 4, -9, 1, 1, 1, 1]).reshape(2, 4)\n",
    "print(cumulative_mean_2d(a))"
   ],
   "metadata": {
    "collapsed": false,
    "pycharm": {
     "name": "#%%\n"
    }
   }
  },
  {
   "cell_type": "code",
   "execution_count": 7,
   "outputs": [
    {
     "name": "stdout",
     "output_type": "stream",
     "text": [
      "[  125     1 85184     1     0     1   -27     1   125     1]\n"
     ]
    }
   ],
   "source": [
    "# import numpy as np\n",
    "#\n",
    "# def transform(X):\n",
    "#     X[::2], X[1::2] = X[::2] ** 3, 1\n",
    "#     return X\n",
    "#\n",
    "# X = np.array([5, -2, 44, 8, 0, -2, -3, 1, 5, 3])\n",
    "# print(transform(X))"
   ],
   "metadata": {
    "collapsed": false,
    "pycharm": {
     "name": "#%%\n"
    }
   }
  },
  {
   "cell_type": "code",
   "execution_count": 14,
   "outputs": [
    {
     "name": "stdout",
     "output_type": "stream",
     "text": [
      "6\n"
     ]
    }
   ],
   "source": [
    "# import numpy as np\n",
    "#\n",
    "#\n",
    "# def diag_2k(a):\n",
    "#     res = np.diag(a)\n",
    "#     result = sum(res[res % 2 == 0])\n",
    "#     return result\n",
    "#\n",
    "# a = np.array([1, 3, 6,\n",
    "#               2, 8,-2,\n",
    "#               -2, 0, -2],\n",
    "#              dtype=int).reshape(3,3)\n",
    "# print(diag_2k(a))"
   ],
   "metadata": {
    "collapsed": false,
    "pycharm": {
     "name": "#%%\n"
    }
   }
  },
  {
   "cell_type": "code",
   "execution_count": null,
   "outputs": [],
   "source": [],
   "metadata": {
    "collapsed": false,
    "pycharm": {
     "name": "#%%\n"
    }
   }
  }
 ],
 "metadata": {
  "kernelspec": {
   "display_name": "Python 3",
   "language": "python",
   "name": "python3"
  },
  "language_info": {
   "codemirror_mode": {
    "name": "ipython",
    "version": 2
   },
   "file_extension": ".py",
   "mimetype": "text/x-python",
   "name": "python",
   "nbconvert_exporter": "python",
   "pygments_lexer": "ipython2",
   "version": "2.7.6"
  }
 },
 "nbformat": 4,
 "nbformat_minor": 0
}